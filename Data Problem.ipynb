{
 "cells": [
  {
   "cell_type": "markdown",
   "metadata": {},
   "source": [
    "# Data Description"
   ]
  },
  {
   "cell_type": "markdown",
   "metadata": {},
   "source": [
    "The data required for this project can be accessed through APIs and simple Google searches:\n",
    "\n",
    "\n",
    "1. List of Boston Neighborhoods: https://en.wikipedia.org/wiki/Neighborhoods_in_Boston. This website gives an overview of how the city of Boston is split into regions and gives a list of the neighborhoods.\n",
    "\n",
    "\n",
    "2. Latitude.to: https://latitude.to/. This website returns the coordinates of any mentioned location. Since the data for the corodinates of the neighborhoods of boston does not already exist in a tabular format to extract, this website will be used to manually get the coordinates.\n",
    "\n",
    "\n",
    "3. Foursquare API : https://developer.foursquare.com/. This API will be used for accessing venues at or near the desired locations. It allows us to make 500 premium calls a day. Credentials for a developer account were used to obtain a client ID and client secret.\n",
    "\n",
    "\n",
    "4. Zillow: https://www.zillow.com/?utm_content=1471764169|65545421228|aud-298298840766:kwd-570802407|450677975005|&semQue=null&k_clickid=_kenshoo_clickid_&gclid=Cj0KCQjwyJn5BRDrARIsADZ9ykGKK9c9IukiiCRkwz7fpv7-zQ_1nMUNGpkx6HH7sX-wD9mkCcsJmmQaArFBEALw_wcB. This website is widely used for buying and selling houses, and contains data about average housing prices of the Boston neighborhoods.\n",
    "\n",
    "\n",
    "5. Boston Public School Website: https://www.bostonpublicschools.org/. This government website contains reviews of the public schools of Boston.\n",
    "\n",
    "\n"
   ]
  },
  {
   "cell_type": "code",
   "execution_count": null,
   "metadata": {},
   "outputs": [],
   "source": []
  }
 ],
 "metadata": {
  "kernelspec": {
   "display_name": "Python 3",
   "language": "python",
   "name": "python3"
  },
  "language_info": {
   "codemirror_mode": {
    "name": "ipython",
    "version": 3
   },
   "file_extension": ".py",
   "mimetype": "text/x-python",
   "name": "python",
   "nbconvert_exporter": "python",
   "pygments_lexer": "ipython3",
   "version": "3.8.1"
  }
 },
 "nbformat": 4,
 "nbformat_minor": 4
}
