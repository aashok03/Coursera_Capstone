{
 "cells": [
  {
   "cell_type": "markdown",
   "metadata": {},
   "source": [
    "# Introduction/Business Problem"
   ]
  },
  {
   "cell_type": "markdown",
   "metadata": {},
   "source": [
    "## Background"
   ]
  },
  {
   "cell_type": "markdown",
   "metadata": {},
   "source": [
    "Boston is a historically rich and economically booming city that is always bustling with life and energy. With a number of universities and companies at its heart, Boston is a hub for all kinds of businesses. However, due to its vibrancy, the city of Boston has become extremely competitive in terms of housing. Various sources report that the cost of living in Boston is 48% greater than the national average. For families moving into the city, it can be confusing as to where specifically in the city they should move to, especially since the cost of living, quality of schools, and type of venues varies greatly in each neighborhood. \n",
    "\n",
    "Boston has 22 neighborhoods, each of which is vastly different from the others in terms of demographics, venues, and per capita income. While some neighborhoods are lined with designer stores and fancy restaurants, others are quieter suburbs that are located next to universities. From bubble tea stores in Chinatown to streets full of pubs downtown, there is a vast cultural difference between the areas as well. The locations and venues in each neighborhood tell us a lot about the affordability of the region, and how compatible a family would be in that neighborhood.\n",
    "\n",
    "The purpose of this project is to use data from the Foursquare API to access geographical data regarding venues all over the city of Boston and classify them by neighborhoods using a K-Means Clustering ML algorithm. The average housing price and average school ratings of each neighborhood will also be examined in parallel to provide a holistic view of each region of Boston that parents may want to consider before moving. Finally, maps of the area will be generated using the Folium library in Python to show the clusters by location."
   ]
  },
  {
   "cell_type": "code",
   "execution_count": null,
   "metadata": {},
   "outputs": [],
   "source": []
  }
 ],
 "metadata": {
  "kernelspec": {
   "display_name": "Python 3",
   "language": "python",
   "name": "python3"
  },
  "language_info": {
   "codemirror_mode": {
    "name": "ipython",
    "version": 3
   },
   "file_extension": ".py",
   "mimetype": "text/x-python",
   "name": "python",
   "nbconvert_exporter": "python",
   "pygments_lexer": "ipython3",
   "version": "3.8.1"
  }
 },
 "nbformat": 4,
 "nbformat_minor": 4
}
